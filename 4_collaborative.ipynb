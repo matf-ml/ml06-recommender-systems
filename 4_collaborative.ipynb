{
 "cells": [
  {
   "cell_type": "markdown",
   "metadata": {},
   "source": [
    "# Collaborative Filtering"
   ]
  },
  {
   "cell_type": "markdown",
   "metadata": {},
   "source": [
    "Kolaborativno filtriranje je tehnika kojom se ocjene filmova predvidjaju na osnovu slicnosti medju korisnicima, odnosno medju filmovima. Preporucuju se oni filmovi za koje je predvidjena ocjena najvisa.\n",
    "\n",
    "U slucaju problema $cold$ $start$ sistemi zastovani na sadrzaju ($content-based$) su korisni, kao i kada informacije o korisnicima i proizvodima nisu dostupne. Medjutim, u poredjenju sa njima, CF pristup je siri i fleksibilniji za identifikaciju slicnih proizvoda."
   ]
  },
  {
   "cell_type": "code",
   "execution_count": 1,
   "metadata": {},
   "outputs": [],
   "source": [
    "import numpy as np\n",
    "import pandas as pd\n",
    "from sklearn.metrics.pairwise import cosine_similarity\n",
    "from sklearn.metrics import mean_absolute_error\n",
    "from sklearn.metrics import mean_squared_error\n",
    "from scipy.sparse.linalg import svds\n",
    "import matplotlib.pyplot as plt\n",
    "%matplotlib inline\n",
    "\n",
    "import warnings; warnings.simplefilter('ignore')"
   ]
  },
  {
   "cell_type": "code",
   "execution_count": 2,
   "metadata": {},
   "outputs": [
    {
     "data": {
      "text/html": [
       "<div>\n",
       "<style scoped>\n",
       "    .dataframe tbody tr th:only-of-type {\n",
       "        vertical-align: middle;\n",
       "    }\n",
       "\n",
       "    .dataframe tbody tr th {\n",
       "        vertical-align: top;\n",
       "    }\n",
       "\n",
       "    .dataframe thead th {\n",
       "        text-align: right;\n",
       "    }\n",
       "</style>\n",
       "<table border=\"1\" class=\"dataframe\">\n",
       "  <thead>\n",
       "    <tr style=\"text-align: right;\">\n",
       "      <th></th>\n",
       "      <th>userId</th>\n",
       "      <th>movieId</th>\n",
       "      <th>rating</th>\n",
       "      <th>timestamp</th>\n",
       "    </tr>\n",
       "  </thead>\n",
       "  <tbody>\n",
       "    <tr>\n",
       "      <th>0</th>\n",
       "      <td>1</td>\n",
       "      <td>1</td>\n",
       "      <td>4.0</td>\n",
       "      <td>964982703</td>\n",
       "    </tr>\n",
       "    <tr>\n",
       "      <th>1</th>\n",
       "      <td>1</td>\n",
       "      <td>3</td>\n",
       "      <td>4.0</td>\n",
       "      <td>964981247</td>\n",
       "    </tr>\n",
       "    <tr>\n",
       "      <th>2</th>\n",
       "      <td>1</td>\n",
       "      <td>6</td>\n",
       "      <td>4.0</td>\n",
       "      <td>964982224</td>\n",
       "    </tr>\n",
       "    <tr>\n",
       "      <th>3</th>\n",
       "      <td>1</td>\n",
       "      <td>47</td>\n",
       "      <td>5.0</td>\n",
       "      <td>964983815</td>\n",
       "    </tr>\n",
       "    <tr>\n",
       "      <th>4</th>\n",
       "      <td>1</td>\n",
       "      <td>50</td>\n",
       "      <td>5.0</td>\n",
       "      <td>964982931</td>\n",
       "    </tr>\n",
       "  </tbody>\n",
       "</table>\n",
       "</div>"
      ],
      "text/plain": [
       "   userId  movieId  rating  timestamp\n",
       "0       1        1     4.0  964982703\n",
       "1       1        3     4.0  964981247\n",
       "2       1        6     4.0  964982224\n",
       "3       1       47     5.0  964983815\n",
       "4       1       50     5.0  964982931"
      ]
     },
     "execution_count": 2,
     "metadata": {},
     "output_type": "execute_result"
    }
   ],
   "source": [
    "rating_df=pd.read_csv('dataset/ratings.csv')\n",
    "rating_df.head()"
   ]
  },
  {
   "cell_type": "code",
   "execution_count": 3,
   "metadata": {},
   "outputs": [
    {
     "data": {
      "text/html": [
       "<div>\n",
       "<style scoped>\n",
       "    .dataframe tbody tr th:only-of-type {\n",
       "        vertical-align: middle;\n",
       "    }\n",
       "\n",
       "    .dataframe tbody tr th {\n",
       "        vertical-align: top;\n",
       "    }\n",
       "\n",
       "    .dataframe thead th {\n",
       "        text-align: right;\n",
       "    }\n",
       "</style>\n",
       "<table border=\"1\" class=\"dataframe\">\n",
       "  <thead>\n",
       "    <tr style=\"text-align: right;\">\n",
       "      <th></th>\n",
       "      <th>movieId</th>\n",
       "      <th>title</th>\n",
       "      <th>genres</th>\n",
       "    </tr>\n",
       "  </thead>\n",
       "  <tbody>\n",
       "    <tr>\n",
       "      <th>0</th>\n",
       "      <td>1</td>\n",
       "      <td>Toy Story (1995)</td>\n",
       "      <td>Adventure|Animation|Children|Comedy|Fantasy</td>\n",
       "    </tr>\n",
       "    <tr>\n",
       "      <th>1</th>\n",
       "      <td>2</td>\n",
       "      <td>Jumanji (1995)</td>\n",
       "      <td>Adventure|Children|Fantasy</td>\n",
       "    </tr>\n",
       "    <tr>\n",
       "      <th>2</th>\n",
       "      <td>3</td>\n",
       "      <td>Grumpier Old Men (1995)</td>\n",
       "      <td>Comedy|Romance</td>\n",
       "    </tr>\n",
       "    <tr>\n",
       "      <th>3</th>\n",
       "      <td>4</td>\n",
       "      <td>Waiting to Exhale (1995)</td>\n",
       "      <td>Comedy|Drama|Romance</td>\n",
       "    </tr>\n",
       "    <tr>\n",
       "      <th>4</th>\n",
       "      <td>5</td>\n",
       "      <td>Father of the Bride Part II (1995)</td>\n",
       "      <td>Comedy</td>\n",
       "    </tr>\n",
       "  </tbody>\n",
       "</table>\n",
       "</div>"
      ],
      "text/plain": [
       "   movieId                               title  \\\n",
       "0        1                    Toy Story (1995)   \n",
       "1        2                      Jumanji (1995)   \n",
       "2        3             Grumpier Old Men (1995)   \n",
       "3        4            Waiting to Exhale (1995)   \n",
       "4        5  Father of the Bride Part II (1995)   \n",
       "\n",
       "                                        genres  \n",
       "0  Adventure|Animation|Children|Comedy|Fantasy  \n",
       "1                   Adventure|Children|Fantasy  \n",
       "2                               Comedy|Romance  \n",
       "3                         Comedy|Drama|Romance  \n",
       "4                                       Comedy  "
      ]
     },
     "execution_count": 3,
     "metadata": {},
     "output_type": "execute_result"
    }
   ],
   "source": [
    "movies_df=pd.read_csv('dataset/movies.csv')\n",
    "movies_df.head()"
   ]
  },
  {
   "cell_type": "code",
   "execution_count": 4,
   "metadata": {},
   "outputs": [],
   "source": [
    "rating_df=rating_df[:3000] # zbog brzeg pokretanja "
   ]
  },
  {
   "cell_type": "code",
   "execution_count": 5,
   "metadata": {},
   "outputs": [
    {
     "name": "stdout",
     "output_type": "stream",
     "text": [
      "Ocjene filmova:\n",
      "0.5\n",
      "1.0\n",
      "1.5\n",
      "2.0\n",
      "2.5\n",
      "3.0\n",
      "3.5\n",
      "4.0\n",
      "4.5\n",
      "5.0\n"
     ]
    }
   ],
   "source": [
    "ocjene=np.linspace(rating_df.rating.min(), rating_df.rating.max(), 10)\n",
    "print('Ocjene filmova:')\n",
    "for o in ocjene: # moguce ocjene su 0.5, 1, 1.5, ..., 5\n",
    "    print(o)"
   ]
  },
  {
   "cell_type": "code",
   "execution_count": 6,
   "metadata": {},
   "outputs": [
    {
     "name": "stdout",
     "output_type": "stream",
     "text": [
      "Ukupno: 20 korisnika, 1768 filma\n"
     ]
    }
   ],
   "source": [
    "n_users = rating_df.userId.unique().shape[0]\n",
    "n_movies = rating_df.movieId.unique().shape[0]\n",
    "print ('Ukupno: ' + str(n_users) + ' korisnika, ' + str(n_movies) + ' filma')"
   ]
  },
  {
   "cell_type": "code",
   "execution_count": 7,
   "metadata": {},
   "outputs": [],
   "source": [
    "df_pivot=rating_df.pivot_table(values='rating', index='userId', columns='movieId').fillna(0)"
   ]
  },
  {
   "cell_type": "code",
   "execution_count": 8,
   "metadata": {},
   "outputs": [],
   "source": [
    "ratings=df_pivot.as_matrix()"
   ]
  },
  {
   "cell_type": "code",
   "execution_count": 9,
   "metadata": {},
   "outputs": [
    {
     "data": {
      "text/plain": [
       "array([[4. , 0. , 4. , ..., 0. , 0. , 0. ],\n",
       "       [0. , 0. , 0. , ..., 0. , 0. , 0. ],\n",
       "       [0. , 0. , 0. , ..., 0. , 0. , 0. ],\n",
       "       ...,\n",
       "       [3.5, 3. , 0. , ..., 3. , 4.5, 4.5],\n",
       "       [4. , 3. , 3. , ..., 0. , 0. , 0. ],\n",
       "       [0. , 3. , 0. , ..., 0. , 0. , 0. ]])"
      ]
     },
     "execution_count": 9,
     "metadata": {},
     "output_type": "execute_result"
    }
   ],
   "source": [
    "ratings # matrica koja sadrzi ocjene koje je i. korisnik dao j. filmu\n",
    "# 0 ako korisnik nije ocjenio film"
   ]
  },
  {
   "cell_type": "code",
   "execution_count": 10,
   "metadata": {},
   "outputs": [],
   "source": [
    "def sparsity(ratings): # prorjedjenost matrice\n",
    "    sparsity = float(len(ratings.nonzero()[0]))\n",
    "    sparsity /= (ratings.shape[0] * ratings.shape[1])\n",
    "    sparsity *= 100\n",
    "    return 100-sparsity"
   ]
  },
  {
   "cell_type": "code",
   "execution_count": 11,
   "metadata": {},
   "outputs": [
    {
     "data": {
      "text/plain": [
       "91.5158371040724"
      ]
     },
     "execution_count": 11,
     "metadata": {},
     "output_type": "execute_result"
    }
   ],
   "source": [
    "sparsity(ratings)"
   ]
  },
  {
   "cell_type": "code",
   "execution_count": 12,
   "metadata": {},
   "outputs": [
    {
     "name": "stdout",
     "output_type": "stream",
     "text": [
      "Sparsity: 91.52%\n"
     ]
    }
   ],
   "source": [
    "print ('Sparsity: {}%'.format(round(sparsity(ratings), 2)))"
   ]
  },
  {
   "cell_type": "markdown",
   "metadata": {},
   "source": [
    "### Podjela na skup za obucavanje i testiranje"
   ]
  },
  {
   "cell_type": "code",
   "execution_count": 13,
   "metadata": {},
   "outputs": [],
   "source": [
    "def my_train_test_split(ratings, test_size): # skupovi za obucavanje i testiranje su istog oblika, ali su vrijednsti \n",
    "    # raspodijeljene: test_size ocjena ce biti u skupu za testiranje\n",
    "    test = np.zeros(ratings.shape)\n",
    "    train = ratings.copy()\n",
    "    rows = (ratings != 0).sum(1)\n",
    "    \n",
    "    for user in range(ratings.shape[0]):\n",
    "        count_per_user=int(np.ceil(test_size*rows[user]))\n",
    "        test_ratings = np.random.choice(ratings[user, :].nonzero()[0], # 0 jer je nonzero primjenjeno na vektor\n",
    "                                        size=count_per_user,  # indexi na kojima nisu 0\n",
    "                                        replace=False)\n",
    "        # u skup za obucavanje se upisuju 0 na izabranim pozicijama, a u skup za testiranje se upisuju elementi \n",
    "        train[user, test_ratings] = 0\n",
    "        test[user, test_ratings] = ratings[user, test_ratings] \n",
    "        \n",
    "    # provjera da li su poznate ocjene ili u jednom ili u drugom skupu\n",
    "    assert(np.all((train * test) == 0)) \n",
    "    return train, test"
   ]
  },
  {
   "cell_type": "code",
   "execution_count": 14,
   "metadata": {},
   "outputs": [],
   "source": [
    "train, test = my_train_test_split(ratings, 0.2)"
   ]
  },
  {
   "cell_type": "code",
   "execution_count": 15,
   "metadata": {},
   "outputs": [
    {
     "data": {
      "text/plain": [
       "93.23529411764706"
      ]
     },
     "execution_count": 15,
     "metadata": {},
     "output_type": "execute_result"
    }
   ],
   "source": [
    "sparsity(train)"
   ]
  },
  {
   "cell_type": "code",
   "execution_count": 16,
   "metadata": {},
   "outputs": [
    {
     "data": {
      "text/plain": [
       "(20, 1768)"
      ]
     },
     "execution_count": 16,
     "metadata": {},
     "output_type": "execute_result"
    }
   ],
   "source": [
    "train.shape # skupovi za obucavanje i testiranje su istih dimenzija, s tim sto im je proredjenost drugacija"
   ]
  },
  {
   "cell_type": "code",
   "execution_count": 17,
   "metadata": {},
   "outputs": [
    {
     "data": {
      "text/plain": [
       "(20, 1768)"
      ]
     },
     "execution_count": 17,
     "metadata": {},
     "output_type": "execute_result"
    }
   ],
   "source": [
    "test.shape"
   ]
  },
  {
   "cell_type": "code",
   "execution_count": 18,
   "metadata": {},
   "outputs": [
    {
     "data": {
      "text/plain": [
       "98.28054298642535"
      ]
     },
     "execution_count": 18,
     "metadata": {},
     "output_type": "execute_result"
    }
   ],
   "source": [
    "sparsity(test)"
   ]
  },
  {
   "cell_type": "markdown",
   "metadata": {},
   "source": [
    "# Item-based Collaborative Filtering"
   ]
  },
  {
   "cell_type": "code",
   "execution_count": 19,
   "metadata": {},
   "outputs": [],
   "source": [
    "def movies_similarity(ratings, epsilon=1e-9):\n",
    "    # dodaje se epsilon -> mala vrijednost u slucaju da je slicnost filmova 0\n",
    "    return cosine_similarity(ratings.T)+epsilon"
   ]
  },
  {
   "cell_type": "code",
   "execution_count": 20,
   "metadata": {},
   "outputs": [],
   "source": [
    "m_sim=movies_similarity(train)"
   ]
  },
  {
   "cell_type": "code",
   "execution_count": 21,
   "metadata": {},
   "outputs": [],
   "source": [
    "def predict_movies_top_k(ratings, movies_similarity, k=10):\n",
    "    pred = np.zeros(ratings.shape)\n",
    "    for j in range(ratings.shape[1]):\n",
    "        top_k_items=[np.argsort(movies_similarity)[j][::-1][1:k+1]]\n",
    "       \n",
    "        for i in range(ratings.shape[0]):\n",
    "            pred[i, j] = movies_similarity[j, :][top_k_items].dot(ratings[i, :][top_k_items].T) \n",
    "            pred[i, j] /= np.sum(np.abs(movies_similarity[j, :][top_k_items]))        \n",
    "    \n",
    "    return pred"
   ]
  },
  {
   "cell_type": "code",
   "execution_count": 22,
   "metadata": {},
   "outputs": [],
   "source": [
    "m_pred=predict_movies_top_k(train, m_sim)"
   ]
  },
  {
   "cell_type": "markdown",
   "metadata": {},
   "source": [
    "# User-based Collaborative Filtering"
   ]
  },
  {
   "cell_type": "code",
   "execution_count": 23,
   "metadata": {},
   "outputs": [],
   "source": [
    "def users_similarity(ratings, epsilon=1e-9):\n",
    "    return cosine_similarity(ratings)+epsilon"
   ]
  },
  {
   "cell_type": "code",
   "execution_count": 24,
   "metadata": {},
   "outputs": [
    {
     "data": {
      "text/plain": [
       "(20, 20)"
      ]
     },
     "execution_count": 24,
     "metadata": {},
     "output_type": "execute_result"
    }
   ],
   "source": [
    "u_sim=users_similarity(train)\n",
    "u_sim.shape"
   ]
  },
  {
   "cell_type": "code",
   "execution_count": 25,
   "metadata": {},
   "outputs": [],
   "source": [
    "def predict_users_top_k(ratings, users_similarity, k=10):\n",
    "    pred = np.zeros(ratings.shape)\n",
    "\n",
    "    for i in range(ratings.shape[0]):\n",
    "        top_k_users=[np.argsort(users_similarity[:,i])[::-1][1:k]]\n",
    "        #print(top_k_users)\n",
    "        for j in range(ratings.shape[1]):\n",
    "            pred[i,j]=ratings[:, j][top_k_users].mean()\n",
    "    \n",
    "    return pred"
   ]
  },
  {
   "cell_type": "code",
   "execution_count": 26,
   "metadata": {},
   "outputs": [],
   "source": [
    "u_pred=predict_users_top_k(train, u_sim)"
   ]
  },
  {
   "cell_type": "markdown",
   "metadata": {},
   "source": [
    "### Validacija"
   ]
  },
  {
   "cell_type": "code",
   "execution_count": 27,
   "metadata": {},
   "outputs": [],
   "source": [
    "def get_rmse(pred, actual):\n",
    "    pred = pred[actual.nonzero()].flatten()\n",
    "    actual = actual[actual.nonzero()].flatten()\n",
    "    return np.sqrt(mean_squared_error(pred, actual))"
   ]
  },
  {
   "cell_type": "code",
   "execution_count": 28,
   "metadata": {},
   "outputs": [],
   "source": [
    "def get_mae(pred, actual):\n",
    "    pred = pred[actual.nonzero()].flatten()\n",
    "    actual = actual[actual.nonzero()].flatten()\n",
    "    return mean_absolute_error(pred, actual)"
   ]
  },
  {
   "cell_type": "code",
   "execution_count": 29,
   "metadata": {},
   "outputs": [
    {
     "name": "stdout",
     "output_type": "stream",
     "text": [
      "Item-based CF RMSE train: 1.2581574792124208\n",
      "Item-based CF RMSE test: 3.2676017938967625\n",
      "Item-based CF MAE train: 0.9499643778631474\n",
      "Item-based CF MAE test: 2.9657958422197424\n"
     ]
    }
   ],
   "source": [
    "print ('Item-based CF RMSE train: {}'.format(get_rmse(m_pred, train)))\n",
    "print ('Item-based CF RMSE test: {}'.format(get_rmse(m_pred, test)))\n",
    "\n",
    "print ('Item-based CF MAE train: {}'.format(get_mae(m_pred, train)))\n",
    "print ('Item-based CF MAE test: {}'.format(get_mae(m_pred, test)))"
   ]
  },
  {
   "cell_type": "code",
   "execution_count": 30,
   "metadata": {},
   "outputs": [
    {
     "name": "stdout",
     "output_type": "stream",
     "text": [
      "User-based CF RMSE train: 3.1766034353053016\n",
      "User-based CF RMSE test: 3.120315689938006\n",
      "User-based CF MAE train: 2.9689241917502787\n",
      "User-based CF MAE test: 2.9174890350877196\n"
     ]
    }
   ],
   "source": [
    "print ('User-based CF RMSE train: {}'.format(get_rmse(u_pred, train)))\n",
    "print ('User-based CF RMSE test: {}'.format(get_rmse(u_pred, test)))\n",
    "\n",
    "print ('User-based CF MAE train: {}'.format(get_mae(u_pred, train)))\n",
    "print ('User-based CF MAE test: {}'.format(get_mae(u_pred, test)))"
   ]
  },
  {
   "cell_type": "markdown",
   "metadata": {},
   "source": [
    "### Izbor vrijednosti za $k$ najblizih susjeda"
   ]
  },
  {
   "cell_type": "code",
   "execution_count": 31,
   "metadata": {},
   "outputs": [],
   "source": [
    "k_array = [10, 20, 50, 100]\n",
    "\n",
    "u_train_mae = []\n",
    "u_test_mae = []\n",
    "m_test_mae = []\n",
    "m_train_mae = []\n",
    "\n",
    "for k in k_array:\n",
    "    u_pred = predict_users_top_k(train, u_sim, k=k)\n",
    "    m_pred = predict_movies_top_k(train, m_sim, k=k)\n",
    "    \n",
    "    u_train_mae += [get_mae(u_pred, train)]\n",
    "    u_test_mae += [get_mae(u_pred, test)]\n",
    "    \n",
    "    m_train_mae += [get_mae(m_pred, train)]\n",
    "    m_test_mae += [get_mae(m_pred, test)] "
   ]
  },
  {
   "cell_type": "code",
   "execution_count": 32,
   "metadata": {},
   "outputs": [
    {
     "data": {
      "text/plain": [
       "Text(0, 0.5, 'MSE')"
      ]
     },
     "execution_count": 32,
     "metadata": {},
     "output_type": "execute_result"
    },
    {
     "data": {
      "image/png": "[encoded data removed]",
      "text/plain": [
       "<Figure size 432x288 with 1 Axes>"
      ]
     },
     "metadata": {
      "needs_background": "light"
     },
     "output_type": "display_data"
    }
   ],
   "source": [
    "plt.plot(k_array, u_train_mae, label='User-based train')\n",
    "plt.plot(k_array, u_test_mae, label='User-based test')\n",
    "plt.plot(k_array, m_train_mae, label='Item-based train')\n",
    "plt.plot(k_array, m_test_mae, label='Item-based test')\n",
    "plt.legend(loc='best')\n",
    "plt.xlabel('k')\n",
    "plt.ylabel('MSE')"
   ]
  },
  {
   "cell_type": "markdown",
   "metadata": {},
   "source": [
    "# Singular Value Decomposition"
   ]
  },
  {
   "cell_type": "code",
   "execution_count": 33,
   "metadata": {},
   "outputs": [],
   "source": [
    "U, sigma, Vt = svds(train, k = 3) # k singularnih vrijednosti i vektora\n",
    "sigma=np.diag(sigma)"
   ]
  },
  {
   "cell_type": "markdown",
   "metadata": {},
   "source": [
    "### Predvidjanje ocjena na osnovu dekomponovane matrice"
   ]
  },
  {
   "cell_type": "code",
   "execution_count": 34,
   "metadata": {},
   "outputs": [],
   "source": [
    "predicted_ratings = np.dot(np.dot(U, sigma), Vt)"
   ]
  },
  {
   "cell_type": "code",
   "execution_count": 35,
   "metadata": {},
   "outputs": [
    {
     "name": "stdout",
     "output_type": "stream",
     "text": [
      "SVD CF MAE train: 1.79543658045615\n",
      "SVD CF MAE test: 3.052242922297236\n"
     ]
    }
   ],
   "source": [
    "print ('SVD CF MAE train: {}'.format(get_mae(predicted_ratings, train)))\n",
    "print ('SVD CF MAE test: {}'.format(get_mae(predicted_ratings, test)))"
   ]
  },
  {
   "cell_type": "code",
   "execution_count": 36,
   "metadata": {},
   "outputs": [],
   "source": [
    "k_array = [1, 3, 5] # broj singularnih vrijednosti i vektora\n",
    "\n",
    "train_mae = []\n",
    "test_mae = []\n",
    "\n",
    "for k in k_array:\n",
    "    \n",
    "    U, sigma, Vt = svds(train, k = k)\n",
    "    sigma=np.diag(sigma)\n",
    "    \n",
    "    all_user_predicted_ratings = np.dot(np.dot(U, sigma), Vt)\n",
    "    \n",
    "    train_mae += [get_mae(all_user_predicted_ratings, train)]\n",
    "    test_mae += [get_mae(all_user_predicted_ratings, test)]\n"
   ]
  },
  {
   "cell_type": "code",
   "execution_count": 37,
   "metadata": {},
   "outputs": [
    {
     "data": {
      "text/plain": [
       "Text(0, 0.5, 'MSE')"
      ]
     },
     "execution_count": 37,
     "metadata": {},
     "output_type": "execute_result"
    },
    {
     "data": {
      "image/png": "[encoded data removed]",
      "text/plain": [
       "<Figure size 432x288 with 1 Axes>"
      ]
     },
     "metadata": {
      "needs_background": "light"
     },
     "output_type": "display_data"
    }
   ],
   "source": [
    "plt.plot(k_array, train_mae, label='SVD MAE train', linewidth=2)\n",
    "plt.plot(k_array, test_mae, label='SVD MAE test', linewidth=2)\n",
    "plt.legend(loc='best', fontsize=10)\n",
    "plt.xticks(fontsize=10)\n",
    "plt.yticks(fontsize=10)\n",
    "plt.xlabel('k', fontsize=10)\n",
    "plt.ylabel('MSE', fontsize=10)"
   ]
  },
  {
   "cell_type": "markdown",
   "metadata": {},
   "source": [
    "### Preporuka filmova"
   ]
  },
  {
   "cell_type": "code",
   "execution_count": 38,
   "metadata": {},
   "outputs": [
    {
     "data": {
      "text/plain": [
       "(20, 1768)"
      ]
     },
     "execution_count": 38,
     "metadata": {},
     "output_type": "execute_result"
    }
   ],
   "source": [
    "preds_df = pd.DataFrame(predicted_ratings, columns = df_pivot.columns)\n",
    "preds_df.shape"
   ]
  },
  {
   "cell_type": "code",
   "execution_count": 39,
   "metadata": {},
   "outputs": [],
   "source": [
    "def recommend_movies(predictions_df, userId, movies_df, original_ratings_df, num_recommendations=5):\n",
    "    \n",
    "    # sortiranje predvidjenih ocjena filmova \n",
    "    user_row_number = userId - 1 # indeksiranje userId pocinje od 1\n",
    "    sorted_user_predictions = preds_df.iloc[user_row_number].sort_values(ascending=False) # UserID starts at 1\n",
    "    \n",
    "    # uzimanje podataka o korisniku iz polazne podataka\n",
    "    user_data = original_ratings_df[original_ratings_df.userId == (userId)]\n",
    "    user_full = (user_data.merge(movies_df, how = 'left', left_on = 'movieId', right_on = 'movieId').\n",
    "                     sort_values(['rating'], ascending=False))\n",
    "\n",
    "    print ('Broj filmova koje je korisnik {0} vec ocjenio: {1}'.format(userId, user_full.shape[0]))\n",
    "    print ('Broj neocjenjenih filmova za koje su predvidjene najvise ocjene: {0}'.format(num_recommendations))\n",
    "    \n",
    "    # preporuka neocjenjenih filmova za koje su predvidjene najvise ocjene\n",
    "    recommendations = (movies_df[~movies_df['movieId'].isin(user_full['movieId'])].\n",
    "         merge(pd.DataFrame(sorted_user_predictions).reset_index(), how = 'left',\n",
    "               left_on = 'movieId',\n",
    "               right_on = 'movieId').\n",
    "         rename(columns = {user_row_number: 'Predictions'}).\n",
    "         sort_values('Predictions', ascending = False).\n",
    "                       iloc[:num_recommendations, :-1]\n",
    "                      )\n",
    "\n",
    "    return user_full, recommendations"
   ]
  },
  {
   "cell_type": "code",
   "execution_count": 40,
   "metadata": {},
   "outputs": [
    {
     "name": "stdout",
     "output_type": "stream",
     "text": [
      "Broj filmova koje je korisnik 1 vec ocjenio: 232\n",
      "Broj neocjenjenih filmova za koje su predvidjene najvise ocjene: 5\n"
     ]
    }
   ],
   "source": [
    "already_rated, predictions = recommend_movies(preds_df, 1, movies_df, rating_df, 5)"
   ]
  },
  {
   "cell_type": "code",
   "execution_count": 41,
   "metadata": {},
   "outputs": [
    {
     "data": {
      "text/html": [
       "<div>\n",
       "<style scoped>\n",
       "    .dataframe tbody tr th:only-of-type {\n",
       "        vertical-align: middle;\n",
       "    }\n",
       "\n",
       "    .dataframe tbody tr th {\n",
       "        vertical-align: top;\n",
       "    }\n",
       "\n",
       "    .dataframe thead th {\n",
       "        text-align: right;\n",
       "    }\n",
       "</style>\n",
       "<table border=\"1\" class=\"dataframe\">\n",
       "  <thead>\n",
       "    <tr style=\"text-align: right;\">\n",
       "      <th></th>\n",
       "      <th>userId</th>\n",
       "      <th>movieId</th>\n",
       "      <th>rating</th>\n",
       "      <th>timestamp</th>\n",
       "      <th>title</th>\n",
       "      <th>genres</th>\n",
       "    </tr>\n",
       "  </thead>\n",
       "  <tbody>\n",
       "    <tr>\n",
       "      <th>231</th>\n",
       "      <td>1</td>\n",
       "      <td>5060</td>\n",
       "      <td>5.0</td>\n",
       "      <td>964984002</td>\n",
       "      <td>M*A*S*H (a.k.a. MASH) (1970)</td>\n",
       "      <td>Comedy|Drama|War</td>\n",
       "    </tr>\n",
       "    <tr>\n",
       "      <th>185</th>\n",
       "      <td>1</td>\n",
       "      <td>2872</td>\n",
       "      <td>5.0</td>\n",
       "      <td>964981680</td>\n",
       "      <td>Excalibur (1981)</td>\n",
       "      <td>Adventure|Fantasy</td>\n",
       "    </tr>\n",
       "    <tr>\n",
       "      <th>89</th>\n",
       "      <td>1</td>\n",
       "      <td>1291</td>\n",
       "      <td>5.0</td>\n",
       "      <td>964981909</td>\n",
       "      <td>Indiana Jones and the Last Crusade (1989)</td>\n",
       "      <td>Action|Adventure</td>\n",
       "    </tr>\n",
       "    <tr>\n",
       "      <th>90</th>\n",
       "      <td>1</td>\n",
       "      <td>1298</td>\n",
       "      <td>5.0</td>\n",
       "      <td>964984086</td>\n",
       "      <td>Pink Floyd: The Wall (1982)</td>\n",
       "      <td>Drama|Musical</td>\n",
       "    </tr>\n",
       "    <tr>\n",
       "      <th>190</th>\n",
       "      <td>1</td>\n",
       "      <td>2948</td>\n",
       "      <td>5.0</td>\n",
       "      <td>964982191</td>\n",
       "      <td>From Russia with Love (1963)</td>\n",
       "      <td>Action|Adventure|Thriller</td>\n",
       "    </tr>\n",
       "  </tbody>\n",
       "</table>\n",
       "</div>"
      ],
      "text/plain": [
       "     userId  movieId  rating  timestamp  \\\n",
       "231       1     5060     5.0  964984002   \n",
       "185       1     2872     5.0  964981680   \n",
       "89        1     1291     5.0  964981909   \n",
       "90        1     1298     5.0  964984086   \n",
       "190       1     2948     5.0  964982191   \n",
       "\n",
       "                                         title                     genres  \n",
       "231               M*A*S*H (a.k.a. MASH) (1970)           Comedy|Drama|War  \n",
       "185                           Excalibur (1981)          Adventure|Fantasy  \n",
       "89   Indiana Jones and the Last Crusade (1989)           Action|Adventure  \n",
       "90                 Pink Floyd: The Wall (1982)              Drama|Musical  \n",
       "190               From Russia with Love (1963)  Action|Adventure|Thriller  "
      ]
     },
     "execution_count": 41,
     "metadata": {},
     "output_type": "execute_result"
    }
   ],
   "source": [
    "already_rated.head()"
   ]
  },
  {
   "cell_type": "code",
   "execution_count": 42,
   "metadata": {},
   "outputs": [
    {
     "data": {
      "text/html": [
       "<div>\n",
       "<style scoped>\n",
       "    .dataframe tbody tr th:only-of-type {\n",
       "        vertical-align: middle;\n",
       "    }\n",
       "\n",
       "    .dataframe tbody tr th {\n",
       "        vertical-align: top;\n",
       "    }\n",
       "\n",
       "    .dataframe thead th {\n",
       "        text-align: right;\n",
       "    }\n",
       "</style>\n",
       "<table border=\"1\" class=\"dataframe\">\n",
       "  <thead>\n",
       "    <tr style=\"text-align: right;\">\n",
       "      <th></th>\n",
       "      <th>movieId</th>\n",
       "      <th>title</th>\n",
       "      <th>genres</th>\n",
       "    </tr>\n",
       "  </thead>\n",
       "  <tbody>\n",
       "    <tr>\n",
       "      <th>1896</th>\n",
       "      <td>2762</td>\n",
       "      <td>Sixth Sense, The (1999)</td>\n",
       "      <td>Drama|Horror|Mystery</td>\n",
       "    </tr>\n",
       "    <tr>\n",
       "      <th>648</th>\n",
       "      <td>910</td>\n",
       "      <td>Some Like It Hot (1959)</td>\n",
       "      <td>Comedy|Crime</td>\n",
       "    </tr>\n",
       "    <tr>\n",
       "      <th>764</th>\n",
       "      <td>1086</td>\n",
       "      <td>Dial M for Murder (1954)</td>\n",
       "      <td>Crime|Mystery|Thriller</td>\n",
       "    </tr>\n",
       "    <tr>\n",
       "      <th>2300</th>\n",
       "      <td>3358</td>\n",
       "      <td>Defending Your Life (1991)</td>\n",
       "      <td>Comedy|Drama|Fantasy|Romance</td>\n",
       "    </tr>\n",
       "    <tr>\n",
       "      <th>651</th>\n",
       "      <td>913</td>\n",
       "      <td>Maltese Falcon, The (1941)</td>\n",
       "      <td>Film-Noir|Mystery</td>\n",
       "    </tr>\n",
       "  </tbody>\n",
       "</table>\n",
       "</div>"
      ],
      "text/plain": [
       "      movieId                       title                        genres\n",
       "1896     2762     Sixth Sense, The (1999)          Drama|Horror|Mystery\n",
       "648       910     Some Like It Hot (1959)                  Comedy|Crime\n",
       "764      1086    Dial M for Murder (1954)        Crime|Mystery|Thriller\n",
       "2300     3358  Defending Your Life (1991)  Comedy|Drama|Fantasy|Romance\n",
       "651       913  Maltese Falcon, The (1941)             Film-Noir|Mystery"
      ]
     },
     "execution_count": 42,
     "metadata": {},
     "output_type": "execute_result"
    }
   ],
   "source": [
    "predictions"
   ]
  },
  {
   "cell_type": "markdown",
   "metadata": {},
   "source": [
    "# Implementacija metoda Stohasticki gradijentni spust"
   ]
  },
  {
   "cell_type": "markdown",
   "metadata": {},
   "source": [
    "Metod latentnih faktora za CF, koji se moze sprovesti pomocu stohastickog gradijentnog spusta, koristi postojece ocjene filmova kako bi naucio istovremeno latentne karakteristike i korisnika i filmova. Ovo je dosta mocniji pristup u poredjenju sa metodom najblizih susjeda."
   ]
  },
  {
   "cell_type": "code",
   "execution_count": 43,
   "metadata": {},
   "outputs": [],
   "source": [
    "# Root Mean Squared Error\n",
    "def rmse_sgd(train, Q, P):\n",
    "    I = train != 0  # indikatorska funkcija o ocjenjenim filmovima\n",
    "    ME = I * (train - np.dot(P, Q.T))  # greska izmedju stvarnih i predvidjenih vrijednosti\n",
    "    MSE = ME**2  \n",
    "    return np.sqrt(np.sum(MSE)/np.sum(I)) "
   ]
  },
  {
   "cell_type": "code",
   "execution_count": 44,
   "metadata": {},
   "outputs": [],
   "source": [
    "# parametri i inicijalizacija latentnih faktora\n",
    "f = 5  # broj parova latentnih faktora\n",
    "lmbda = 0.5 # Regularisation strength\n",
    "gamma=0.01  # Learning rate\n",
    "n_epochs = 10  # Number of loops through training data\n",
    "P = np.sqrt(train.max())* np.random.rand(n_users, f) # Latentni faktori za korisnika\n",
    "Q = np.sqrt(train.max())* np.random.rand(n_movies, f) # Latentni faktori za filmove"
   ]
  },
  {
   "cell_type": "code",
   "execution_count": 45,
   "metadata": {},
   "outputs": [],
   "source": [
    "# SGD\n",
    "train_errors_per_epochs = []\n",
    "test_errors_per_epochs = []\n",
    "users,items = train.nonzero()      \n",
    "for epoch in range(n_epochs):\n",
    "    for u, i in zip(users,items):\n",
    "        e = train[u, i] - np.dot(P[u, :], Q[i, :].T)  # greska kao razlika poznate i pretpostavljene ocjene\n",
    "        P[u, :] += gamma * ( e * Q[i, :] - lmbda * P[u, :]) # azuriranje nove vrijednosti koja opisuje koristika\n",
    "        Q[i, :] += gamma * ( e * P[u, :] - lmbda * Q[i, :])  # azuriranje nove vrijednosti koja opisuje film\n",
    "    train_errors_per_epochs.append(rmse_sgd(train,Q,P)) # Training RMSE for this pass\n",
    "    test_errors_per_epochs.append(rmse_sgd(test,Q,P)) # Test RMSE for this pass"
   ]
  },
  {
   "cell_type": "code",
   "execution_count": 46,
   "metadata": {},
   "outputs": [
    {
     "data": {
      "text/plain": [
       "<matplotlib.legend.Legend at 0x5ebe978>"
      ]
     },
     "execution_count": 46,
     "metadata": {},
     "output_type": "execute_result"
    },
    {
     "data": {
      "image/png": "[encoded data removed]",
      "text/plain": [
       "<Figure size 432x288 with 1 Axes>"
      ]
     },
     "metadata": {
      "needs_background": "light"
     },
     "output_type": "display_data"
    }
   ],
   "source": [
    "# provjeravanje performansi grafickim prikazom greske na skupu za obucavanje i testiranje\n",
    "plt.plot(train_errors_per_epochs, color=\"g\", label='Training RMSE')\n",
    "plt.plot(test_errors_per_epochs, color=\"r\", label='Test RMSE')\n",
    "plt.xlabel('Number of Epochs')\n",
    "plt.ylabel('RMSE')\n",
    "plt.title('Error During Stochastic GD')\n",
    "plt.legend()\n",
    "# Tokom procesa obucavanja, greska na skupu za obucavanje ima trend opadanja"
   ]
  },
  {
   "cell_type": "code",
   "execution_count": 47,
   "metadata": {},
   "outputs": [
    {
     "data": {
      "text/plain": [
       "array([[3.49285298, 2.67969176, 4.82429266, ..., 4.65851773, 3.02464733,\n",
       "        4.57234565],\n",
       "       [2.86383836, 2.11768416, 3.9694109 , ..., 3.68136371, 2.25864231,\n",
       "        3.97048692],\n",
       "       [2.23900431, 2.04491244, 3.00700963, ..., 2.9499929 , 2.26557097,\n",
       "        2.90394309],\n",
       "       ...,\n",
       "       [2.9338845 , 2.23304442, 4.00779579, ..., 3.85563776, 2.60267858,\n",
       "        3.7015837 ],\n",
       "       [1.7358923 , 1.33863937, 2.42432914, ..., 2.22407684, 1.50429862,\n",
       "        2.217329  ],\n",
       "       [3.24454181, 2.45017564, 4.41652032, ..., 4.08044136, 2.97394006,\n",
       "        3.80427842]])"
      ]
     },
     "execution_count": 47,
     "metadata": {},
     "output_type": "execute_result"
    }
   ],
   "source": [
    "predicted_train=np.dot(P, Q.T)\n",
    "predicted_train"
   ]
  },
  {
   "cell_type": "code",
   "execution_count": 48,
   "metadata": {},
   "outputs": [
    {
     "name": "stdout",
     "output_type": "stream",
     "text": [
      "SVD CF MAE train: 0.9056773716940505\n",
      "SVD CF RMSE train: 1.1254676983978469\n"
     ]
    }
   ],
   "source": [
    "print('SVD CF MAE train: {}'.format(get_mae(predicted_train, train)))\n",
    "print('SVD CF RMSE train: {}'.format(get_rmse(predicted_train, train)))"
   ]
  },
  {
   "cell_type": "markdown",
   "metadata": {},
   "source": [
    "### Validacija na test skupu"
   ]
  },
  {
   "cell_type": "code",
   "execution_count": 49,
   "metadata": {},
   "outputs": [],
   "source": [
    "f = 5  # broj parova latentnih faktora\n",
    "lmbda = 0.5 # Regularisation strength\n",
    "gamma=0.01  # Learning rate\n",
    "n_epochs = 10  \n",
    "P = np.sqrt(test.max())* np.random.rand(n_users, f) # Latentni faktori za korisnika\n",
    "Q = np.sqrt(test.max())* np.random.rand(n_movies, f) "
   ]
  },
  {
   "cell_type": "code",
   "execution_count": 50,
   "metadata": {},
   "outputs": [],
   "source": [
    "# SGD na test skupu\n",
    "users,items = test.nonzero()      \n",
    "for epoch in range(n_epochs):\n",
    "    for u, i in zip(users,items):\n",
    "        e = test[u, i] - np.dot(P[u, :], Q[i, :].T)  \n",
    "        P[u, :] += gamma * ( e * Q[i, :] - lmbda * P[u, :]) \n",
    "        Q[i, :] += gamma * ( e * P[u, :] - lmbda * Q[i, :]) "
   ]
  },
  {
   "cell_type": "code",
   "execution_count": 51,
   "metadata": {},
   "outputs": [
    {
     "data": {
      "text/plain": [
       "array([[4.02475769, 4.06362645, 2.19051913, ..., 3.85703272, 3.42466353,\n",
       "        4.80167775],\n",
       "       [4.20144535, 5.23552368, 2.30756184, ..., 3.1474013 , 5.11768933,\n",
       "        4.63843023],\n",
       "       [2.35799915, 2.09562615, 1.90370276, ..., 2.57151997, 3.08180568,\n",
       "        2.86073044],\n",
       "       ...,\n",
       "       [3.44835152, 3.67368875, 1.95537879, ..., 3.04271258, 2.9711685 ,\n",
       "        3.79582886],\n",
       "       [1.9697668 , 2.05799182, 1.34701652, ..., 2.14760059, 1.97010784,\n",
       "        2.85617195],\n",
       "       [5.7551528 , 5.63574297, 3.25071836, ..., 5.46601836, 3.84307173,\n",
       "        6.39080874]])"
      ]
     },
     "execution_count": 51,
     "metadata": {},
     "output_type": "execute_result"
    }
   ],
   "source": [
    "predicted_test=np.dot(P, Q.T)\n",
    "predicted_test"
   ]
  },
  {
   "cell_type": "code",
   "execution_count": 52,
   "metadata": {},
   "outputs": [
    {
     "name": "stdout",
     "output_type": "stream",
     "text": [
      "SVD CF MAE test: 0.836585413984004\n",
      "SVD CF RMSE test: 1.0424990615019267\n"
     ]
    }
   ],
   "source": [
    "print('SVD CF MAE test: {}'.format(get_mae(predicted_test, test)))\n",
    "print('SVD CF RMSE test: {}'.format(get_rmse(predicted_test, test)))"
   ]
  },
  {
   "cell_type": "code",
   "execution_count": 53,
   "metadata": {},
   "outputs": [],
   "source": [
    "# Nad svim poznatim vrijednostima\n",
    "f = 5 \n",
    "lmbda = 0.5 # Regularisation strength\n",
    "gamma=0.01  # Learning rate\n",
    "n_epochs = 10  \n",
    "P = np.sqrt(ratings.max())* np.random.rand(n_users, f) \n",
    "Q = np.sqrt(ratings.max())* np.random.rand(n_movies, f)"
   ]
  },
  {
   "cell_type": "code",
   "execution_count": 54,
   "metadata": {},
   "outputs": [],
   "source": [
    "users,items = train.nonzero()      \n",
    "for epoch in range(n_epochs):\n",
    "    for u, i in zip(users,items):\n",
    "        e = ratings[u, i] - np.dot(P[u, :], Q[i, :].T) \n",
    "        P[u, :] += gamma * ( e * Q[i, :] - lmbda * P[u, :]) \n",
    "        Q[i, :] += gamma * ( e * P[u, :] - lmbda * Q[i, :])"
   ]
  },
  {
   "cell_type": "code",
   "execution_count": 55,
   "metadata": {},
   "outputs": [
    {
     "data": {
      "text/plain": [
       "array([[3.46255577, 3.77741522, 4.47294465, ..., 3.1284973 , 4.51707247,\n",
       "        4.28690324],\n",
       "       [3.13681954, 3.54544647, 4.06760423, ..., 3.23930829, 4.27232277,\n",
       "        3.63340179],\n",
       "       [1.83393999, 1.74074513, 1.65856285, ..., 1.18477612, 2.1149957 ,\n",
       "        2.98532705],\n",
       "       ...,\n",
       "       [2.92824819, 3.1950674 , 3.71501214, ..., 2.72557918, 3.82888365,\n",
       "        3.57863563],\n",
       "       [1.82754622, 1.9304108 , 2.12631225, ..., 1.59500166, 2.26172386,\n",
       "        2.29992201],\n",
       "       [3.42631625, 3.4127943 , 3.69013486, ..., 2.89969831, 4.09404841,\n",
       "        4.35615399]])"
      ]
     },
     "execution_count": 55,
     "metadata": {},
     "output_type": "execute_result"
    }
   ],
   "source": [
    "predicted=np.dot(P, Q.T)\n",
    "predicted"
   ]
  },
  {
   "cell_type": "code",
   "execution_count": 56,
   "metadata": {},
   "outputs": [
    {
     "name": "stdout",
     "output_type": "stream",
     "text": [
      "SVD CF MAE: 0.8955755296491839\n",
      "SVD CF RMSE: 1.1210306090614106\n"
     ]
    }
   ],
   "source": [
    "print('SVD CF MAE: {}'.format(get_mae(predicted, ratings)))\n",
    "print('SVD CF RMSE: {}'.format(get_rmse(predicted, ratings)))"
   ]
  }
 ],
 "metadata": {
  "kernelspec": {
   "display_name": "Python 3",
   "language": "python",
   "name": "python3"
  },
  "language_info": {
   "codemirror_mode": {
    "name": "ipython",
    "version": 3
   },
   "file_extension": ".py",
   "mimetype": "text/x-python",
   "name": "python",
   "nbconvert_exporter": "python",
   "pygments_lexer": "ipython3",
   "version": "3.7.3"
  }
 },
 "nbformat": 4,
 "nbformat_minor": 2
}
